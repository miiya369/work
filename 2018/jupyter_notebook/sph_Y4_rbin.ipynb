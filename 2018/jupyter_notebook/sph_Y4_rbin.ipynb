{
 "cells": [
  {
   "cell_type": "code",
   "execution_count": 1,
   "metadata": {
    "code_folding": [],
    "slideshow": {
     "slide_type": "fragment"
    }
   },
   "outputs": [
    {
     "data": {
      "text/html": [
       "<script>jQuery(function() {if (jQuery(\"body.notebook_app\").length == 0) { jQuery(\".input_area\").toggle(); jQuery(\".prompt\").toggle();}});</script>"
      ]
     },
     "metadata": {},
     "output_type": "display_data"
    },
    {
     "data": {
      "text/html": [
       "<button onclick=\"jQuery('.input_area').toggle(); jQuery('.prompt').toggle();\">Toggle code</button>"
      ]
     },
     "metadata": {},
     "output_type": "display_data"
    },
    {
     "data": {
      "text/html": [
       "<script>requirejs.config({paths: { 'plotly': ['https://cdn.plot.ly/plotly-latest.min']},});if(!window.Plotly) {{require(['plotly'],function(plotly) {window.Plotly=plotly;});}}</script>"
      ],
      "text/vnd.plotly.v1+html": [
       "<script>requirejs.config({paths: { 'plotly': ['https://cdn.plot.ly/plotly-latest.min']},});if(!window.Plotly) {{require(['plotly'],function(plotly) {window.Plotly=plotly;});}}</script>"
      ]
     },
     "metadata": {},
     "output_type": "display_data"
    }
   ],
   "source": [
    "###=== Import modules which are used in this note & global setup ===###\n",
    "\n",
    "from   IPython.display      import display, HTML\n",
    "import IPython.core.display as di\n",
    "di.display_html('<script>jQuery(function() {if (jQuery(\"body.notebook_app\").length == 0) { jQuery(\".input_area\").toggle(); jQuery(\".prompt\").toggle();}});</script>', raw=True)\n",
    "di.display_html('''<button onclick=\"jQuery('.input_area').toggle(); jQuery('.prompt').toggle();\">Toggle code</button>''', raw=True)\n",
    "\n",
    "import numpy as np\n",
    "import scipy as sp\n",
    "\n",
    "import matplotlib.pyplot as plt\n",
    "\n",
    "import plotly.offline    as offline\n",
    "import plotly.graph_objs as go\n",
    "offline.init_notebook_mode(connected=True)\n",
    "\n",
    "import sys, os\n",
    "sys.path.append(\"/home/miyamoto/python_code-set/lib\")\n",
    "from misc_QM.special_functions   import sph_harm_xyz\n",
    "from lattice.rotation_projection import rot_proj\n",
    "from lattice.calc_laplacian      import lap\n",
    "\n",
    "show_graph = False"
   ]
  },
  {
   "cell_type": "code",
   "execution_count": 2,
   "metadata": {
    "code_folding": [
     3
    ],
    "deletable": false,
    "editable": false,
    "slideshow": {
     "slide_type": "fragment"
    }
   },
   "outputs": [],
   "source": [
    "###=== The function for making r-binning data ===###\n",
    "# idata[0,:] = r-coordinate, idata[1,:] = value\n",
    "# odata[0,:] = r-coordinate, odata[1,:] = value, odata[2,:] = xerr, odata[3,:] = yerr\n",
    "def rbin(idata, nbin = 1):\n",
    "    iNd = len(idata[0,:])\n",
    "    o_r     = []\n",
    "    odata   = []\n",
    "    od_xerr = []\n",
    "    od_yerr = []\n",
    "    for bin_r in np.arange(0.0, np.max(idata[0,:]), nbin):\n",
    "        tmpr = tmpr2 = tmpd = tmpd2 = Nbind = 0\n",
    "        for ir in range(iNd):\n",
    "            if (bin_r <= idata[0,ir] < bin_r+nbin):\n",
    "                tmpr  += idata[0,ir]\n",
    "                tmpr2 += idata[0,ir]**2\n",
    "                tmpd  += idata[1,ir]\n",
    "                tmpd2 += idata[1,ir]**2\n",
    "                Nbind += 1\n",
    "        if (Nbind != 0):\n",
    "            o_r  .append(tmpr/float(Nbind))\n",
    "            odata.append(tmpd/float(Nbind))\n",
    "            if (Nbind == 1):\n",
    "                od_xerr.append(0.0)\n",
    "                od_yerr.append(0.0)\n",
    "            else:\n",
    "                od_xerr.append(np.sqrt(tmpr2-tmpr**2)/float(Nbind))\n",
    "                od_yerr.append(np.sqrt(tmpr2-tmpr**2)/float(Nbind))\n",
    "    return np.array((o_r,odata,od_xerr,od_yerr))"
   ]
  },
  {
   "cell_type": "markdown",
   "metadata": {
    "deletable": false,
    "editable": false,
    "slideshow": {
     "slide_type": "slide"
    }
   },
   "source": [
    "# Mock up wave function data\n",
    "\n",
    "* \n",
    "<font size=3>\n",
    "    I define the wave function by <br>  \n",
    "    <font size=6 color=red> $\\psi(r) = \\exp\\left[ -\\frac{r^2}{60} \\right]+3$, </font>\n",
    "    where $r = \\sqrt{x^2+y^2+z^2}$\n",
    "</font>\n",
    "\n",
    "<br>\n",
    "\n",
    "* \n",
    "<font size=3>\n",
    "    Then, potential is defined as <br>  \n",
    "    <font size=6 color=red> $V(r) = \\frac{\\nabla^2 \\psi(r)}{\\psi(r)}$ </font>\n",
    "</font>"
   ]
  },
  {
   "cell_type": "markdown",
   "metadata": {
    "slideshow": {
     "slide_type": "subslide"
    }
   },
   "source": [
    "## Data setup\n",
    "\n",
    "* \n",
    "<font size=3>\n",
    "    Lattice: $(L_x,L_y,L_z) = (96,96,96)$ with the <font color='red'>periodic boundary condition</font>\n",
    "</font>"
   ]
  },
  {
   "cell_type": "code",
   "execution_count": 3,
   "metadata": {
    "deletable": false,
    "editable": false,
    "slideshow": {
     "slide_type": "subslide"
    }
   },
   "outputs": [],
   "source": [
    "Ls  = 96"
   ]
  },
  {
   "cell_type": "code",
   "execution_count": 4,
   "metadata": {
    "code_folding": [],
    "deletable": false,
    "editable": false,
    "slideshow": {
     "slide_type": "subslide"
    }
   },
   "outputs": [],
   "source": [
    "###=== Generate a mock up wave function on the 3D-lattice ===###\n",
    "\n",
    "rng  = np.arange(Ls)\n",
    "Lpbc = [(i if i < Ls//2 else i-Ls) for i in rng]\n",
    "psi  = np.array([[[-np.exp(-(Lpbc[x]**2+Lpbc[y]**2+Lpbc[z]**2)/60.0) + 3.0 \n",
    "                   for x in rng] for y in rng] for z in rng])\n",
    "rcrd = np.array([[[np.sqrt(Lpbc[x]**2 + Lpbc[y]**2 + Lpbc[z]**2)\n",
    "                   for x in rng] for y in rng] for z in rng])"
   ]
  },
  {
   "cell_type": "code",
   "execution_count": 5,
   "metadata": {
    "code_folding": [],
    "deletable": false,
    "editable": false,
    "slideshow": {
     "slide_type": "subslide"
    }
   },
   "outputs": [],
   "source": [
    "###=== Generate a mock up potential on the 3D-lattice ===###\n",
    "\n",
    "pot = lap(psi)/psi"
   ]
  },
  {
   "cell_type": "markdown",
   "metadata": {
    "slideshow": {
     "slide_type": "subslide"
    }
   },
   "source": [
    "## Plot"
   ]
  },
  {
   "cell_type": "code",
   "execution_count": 6,
   "metadata": {
    "code_folding": [
     2
    ],
    "deletable": false,
    "editable": false,
    "scrolled": false,
    "slideshow": {
     "slide_type": "subslide"
    }
   },
   "outputs": [
    {
     "data": {
      "image/png": "[encoded data removed]",
      "text/plain": [
       "<Figure size 720x288 with 2 Axes>"
      ]
     },
     "metadata": {},
     "output_type": "display_data"
    }
   ],
   "source": [
    "###=== 2-D plot for the psi(r) and V(r) ===###\n",
    "\n",
    "if (show_graph or True):\n",
    "    r_flt = rcrd.flatten()\n",
    "    psi_r = psi .flatten()\n",
    "    pot_r = pot .flatten()\n",
    "    fig, axe = plt.subplots(ncols=2, figsize=(10,4), sharex=True)\n",
    "    axe[0].plot(r_flt,psi_r,'b.', label='wave function psi(r)')\n",
    "    axe[1].plot(r_flt,pot_r,'b.', label='potential V(r)')\n",
    "    axe[0].set_xlim(-1,40)\n",
    "    axe[0].legend(numpoints=1, loc='lower right')\n",
    "    axe[1].legend(numpoints=1, loc='upper right')\n",
    "    axe[0].set_ylabel('psi(r) [Lattice Unit]')\n",
    "    axe[1].set_ylabel('V(r) [Lattice Unit]')\n",
    "    for i in range(2):\n",
    "        axe[i].grid(True)\n",
    "        axe[i].set_xlabel('r [Lattice Unit]')"
   ]
  },
  {
   "cell_type": "markdown",
   "metadata": {
    "slideshow": {
     "slide_type": "slide"
    }
   },
   "source": [
    "# Spherical harmonics\n",
    "<br>\n",
    "<font size=6>\n",
    "$ Y_0^0~~(r) = \\frac{1}{2\\sqrt{2\\pi}} $\n",
    "<font color=red>  \n",
    "$ Y_4^0~~(r) =  $\n",
    "$ Y_4^{-4}(r) =  $\n",
    "$ Y_4^{+4}(r) =  $\n",
    "</font></font>"
   ]
  },
  {
   "cell_type": "code",
   "execution_count": null,
   "metadata": {
    "deletable": false,
    "editable": false,
    "slideshow": {
     "slide_type": "subslide"
    }
   },
   "outputs": [],
   "source": [
    "###=== Generate the spherical harmonicses (L = 0 and 4) on the 3D-lattice ===###\n",
    "\n",
    "rng  = np.arange(Ls)\n",
    "Y00  = np.array([[[sph_harm_xyz(0, 0, Lpbc[x],Lpbc[y],Lpbc[z]) for x in rng] for y in rng] for z in rng])\n",
    "Y40  = np.array([[[sph_harm_xyz(4, 0, Lpbc[x],Lpbc[y],Lpbc[z]) for x in rng] for y in rng] for z in rng])\n",
    "Y4m4 = np.array([[[sph_harm_xyz(4,-4, Lpbc[x],Lpbc[y],Lpbc[z]) for x in rng] for y in rng] for z in rng])\n",
    "Y4p4 = np.array([[[sph_harm_xyz(4,+4, Lpbc[x],Lpbc[y],Lpbc[z]) for x in rng] for y in rng] for z in rng])"
   ]
  },
  {
   "cell_type": "code",
   "execution_count": null,
   "metadata": {
    "code_folding": [
     2
    ],
    "deletable": false,
    "editable": false,
    "slideshow": {
     "slide_type": "subslide"
    }
   },
   "outputs": [],
   "source": [
    "###=== 2-D plot for the Y_lm(r) ===###\n",
    "\n",
    "if (show_graph or True):\n",
    "    r_flt  = rcrd.flatten()\n",
    "    Y00_r  = Y00 .flatten().real\n",
    "    Y40_r  = Y40 .flatten().real\n",
    "    Y4m4_r = Y4m4.flatten().real\n",
    "    Y4p4_r = Y4p4.flatten().real\n",
    "    fig, axe = plt.subplots(ncols=2, nrows=2, figsize=(10,8), sharex=True)\n",
    "    axe[0,0].plot(r_flt,Y00_r ,'b.', label='Y00')\n",
    "    axe[0,1].plot(r_flt,Y40_r ,'b.', label='Y40')\n",
    "    axe[1,0].plot(r_flt,Y4m4_r,'b.', label='Y4,+4')\n",
    "    axe[1,1].plot(r_flt,Y4p4_r,'b.', label='Y4,-4')\n",
    "    axe[0,0].set_xlim(-1,40)\n",
    "    for i in range(2):\n",
    "        for j in range(2):\n",
    "            axe[i,j].grid(True)\n",
    "            axe[i,j].legend(numpoints=1, loc='upper right')\n",
    "            axe[i,j].set_ylabel('Y(r) [Lattice Unit]')\n",
    "            axe[i,j].set_xlabel('r [Lattice Unit]')"
   ]
  },
  {
   "cell_type": "code",
   "execution_count": null,
   "metadata": {
    "code_folding": [
     2
    ],
    "deletable": false,
    "editable": false,
    "scrolled": false,
    "slideshow": {
     "slide_type": "subslide"
    }
   },
   "outputs": [],
   "source": [
    "###=== 3-D plot for the spherical harmonicses (Y_40) ===###\n",
    "\n",
    "if (show_graph):\n",
    "    nsp = 6\n",
    "    pd  = Y40.copy()\n",
    "    pd[np.isnan(pd)] = 0.0\n",
    "    rng = np.arange(0,Ls,nsp)\n",
    "    p = [\n",
    "        np.array([[[Lpbc[x] for x in rng] for y in rng] for z in rng]).flatten(),\n",
    "        np.array([[[Lpbc[y] for x in rng] for y in rng] for z in rng]).flatten(),\n",
    "        np.array([[[Lpbc[z] for x in rng] for y in rng] for z in rng]).flatten(),\n",
    "        pd[::nsp,::nsp,::nsp].flatten().real\n",
    "    ]\n",
    "    offline.iplot(dict(data=[go.Scatter3d(x=p[0],y=p[1],z=p[2], mode='markers',\n",
    "                                          marker=dict(color=p[3], \n",
    "                                                      size=(p[3]-np.min(p[3]))*20,\n",
    "                                                      colorscale='Jet', \n",
    "                                                      opacity=0.4, \n",
    "                                                      showscale=True))],\n",
    "                       layout=dict(margin=dict(l=0,r=0,b=0,t=0))))"
   ]
  },
  {
   "cell_type": "markdown",
   "metadata": {
    "slideshow": {
     "slide_type": "slide"
    }
   },
   "source": [
    "# Wave functions with spherical harmonics\n",
    "<br>\n",
    "<font size=3>\n",
    "\\begin{equation} \\psi_{0~~~~~~}(r) = Y_0^0 (r) ~ \\psi(r) \\end{equation}\n",
    "<font color=red>  \n",
    "\\begin{equation} \\psi_{4,0~~~}(r) = Y_0^0 (r) ~ \\psi(r) + 0.01 ~ Y_4^0 ~~(r) ~ \\psi(r) \\end{equation}  \n",
    "\\begin{equation} \\psi_{4,-4}(r) = Y_0^0 (r) ~ \\psi(r) + 0.01 ~ Y_4^{-4} (r) ~ \\psi(r) \\end{equation}  \n",
    "\\begin{equation} \\psi_{4,+4}(r) = Y_0^0 (r) ~ \\psi(r) + 0.01 ~ Y_4^{+4} (r) ~ \\psi(r) \\end{equation}\n",
    "</font>"
   ]
  },
  {
   "cell_type": "code",
   "execution_count": null,
   "metadata": {
    "deletable": false,
    "editable": false,
    "slideshow": {
     "slide_type": "subslide"
    }
   },
   "outputs": [],
   "source": [
    "###=== Generate wave functions with the spherical harmonicses (L = 0 and/or 4) on the 3D-lattice ===###\n",
    "\n",
    "Ncontami = 0.01\n",
    "psi_0    = Y00  * psi\n",
    "psi_40   = Y00  * psi + Ncontami * Y40  * psi\n",
    "psi_4m4  = Y00  * psi + Ncontami * Y4m4 * psi\n",
    "psi_4p4  = Y00  * psi + Ncontami * Y4p4 * psi"
   ]
  },
  {
   "cell_type": "code",
   "execution_count": null,
   "metadata": {
    "code_folding": [
     2
    ],
    "deletable": false,
    "editable": false,
    "slideshow": {
     "slide_type": "subslide"
    }
   },
   "outputs": [],
   "source": [
    "###=== 2-D plot for the wave functions with the spherical harmonicses  ===###\n",
    "\n",
    "if (show_graph or True):\n",
    "    r_flt     = rcrd   .flatten()\n",
    "    psi_0_r   = psi_0  .flatten().real\n",
    "    psi_40_r  = psi_40 .flatten().real\n",
    "    psi_4m4_r = psi_4m4.flatten().real\n",
    "    psi_4p4_r = psi_4p4.flatten().real\n",
    "    fig, axe = plt.subplots(ncols=2, nrows=2, figsize=(10,8), sharex=True)\n",
    "    axe[0,0].plot(r_flt,psi_0_r  ,'b.', label='psi_0')\n",
    "    axe[0,1].plot(r_flt,psi_40_r ,'b.', label='psi_40')\n",
    "    axe[1,0].plot(r_flt,psi_4m4_r,'b.', label='psi_4,+4')\n",
    "    axe[1,1].plot(r_flt,psi_4p4_r,'b.', label='psi_4,-4')\n",
    "    axe[0,0].set_xlim(-1,40)\n",
    "    for i in range(2):\n",
    "        for j in range(2):\n",
    "            axe[i,j].grid(True)\n",
    "            axe[i,j].legend(numpoints=1, loc='lower right')\n",
    "            axe[i,j].set_ylabel('Y(r) [Lattice Unit]')\n",
    "            axe[i,j].set_xlabel('r [Lattice Unit]')"
   ]
  },
  {
   "cell_type": "markdown",
   "metadata": {
    "slideshow": {
     "slide_type": "slide"
    }
   },
   "source": [
    "# The potential with $Y_{l=4}$ contamination\n",
    "<br>\n",
    "<font size=3>\n",
    "    The potentials are defined by  \n",
    "    <br>\n",
    "    \\begin{equation} V_X = \\frac{\\nabla^2 \\psi_X(r)}{\\psi_X(r)} \\end{equation}\n",
    "    <br>\n",
    "    where $X = 0~~\\mathrm{or}~~40~~\\mathrm{or}~~4,+4~~\\mathrm{or}~~4,-4$\n",
    "</font>"
   ]
  },
  {
   "cell_type": "code",
   "execution_count": null,
   "metadata": {
    "deletable": false,
    "editable": false,
    "slideshow": {
     "slide_type": "subslide"
    }
   },
   "outputs": [],
   "source": [
    "###=== Generate potentials with Y4 contamination on the 3D-lattice ===###\n",
    "\n",
    "pot_0   = lap(psi_0  )/psi_0\n",
    "pot_40  = lap(psi_40 )/psi_40\n",
    "pot_4m4 = lap(psi_4m4)/psi_4m4\n",
    "pot_4p4 = lap(psi_4p4)/psi_4p4"
   ]
  },
  {
   "cell_type": "code",
   "execution_count": null,
   "metadata": {
    "code_folding": [
     2
    ],
    "deletable": false,
    "editable": false,
    "slideshow": {
     "slide_type": "subslide"
    }
   },
   "outputs": [],
   "source": [
    "###=== 2-D plot for the potentials with Y4 contamination  ===###\n",
    "\n",
    "if (show_graph or True):\n",
    "    r_flt     = rcrd   .flatten()\n",
    "    pot_0_r   = pot_0  .flatten().real\n",
    "    pot_40_r  = pot_40 .flatten().real\n",
    "    pot_4m4_r = pot_4m4.flatten().real\n",
    "    pot_4p4_r = pot_4p4.flatten().real\n",
    "    fig, axe = plt.subplots(ncols=2, nrows=2, figsize=(10,8), sharex=True)\n",
    "    axe[0,0].plot(r_flt,pot_0_r  ,'b.', label='V_0')\n",
    "    axe[0,1].plot(r_flt,pot_40_r ,'b.', label='V_40')\n",
    "    axe[1,0].plot(r_flt,pot_4m4_r,'b.', label='V_4,+4')\n",
    "    axe[1,1].plot(r_flt,pot_4p4_r,'b.', label='V_4,-4')\n",
    "    axe[0,0].set_xlim(-1,40)\n",
    "    for i in range(2):\n",
    "        for j in range(2):\n",
    "            axe[i,j].grid(True)\n",
    "            axe[i,j].set_ylim(-0.005,0.05)\n",
    "            axe[i,j].legend(numpoints=1, loc='lower right')\n",
    "            axe[i,j].set_ylabel('V(r) [Lattice Unit]')\n",
    "            axe[i,j].set_xlabel('r [Lattice Unit]')"
   ]
  },
  {
   "cell_type": "markdown",
   "metadata": {
    "slideshow": {
     "slide_type": "slide"
    }
   },
   "source": [
    "# $A_1$ projection for the wave function"
   ]
  },
  {
   "cell_type": "code",
   "execution_count": null,
   "metadata": {
    "deletable": false,
    "editable": false,
    "slideshow": {
     "slide_type": "subslide"
    }
   },
   "outputs": [],
   "source": [
    "psi_0_A1   = rot_proj(psi_0  , a_state=\"A1\")\n",
    "psi_40_A1  = rot_proj(psi_40 , a_state=\"A1\")\n",
    "psi_4m4_A1 = rot_proj(psi_4m4, a_state=\"A1\")\n",
    "psi_4p4_A1 = rot_proj(psi_4p4, a_state=\"A1\")"
   ]
  },
  {
   "cell_type": "code",
   "execution_count": null,
   "metadata": {
    "code_folding": [
     2
    ],
    "slideshow": {
     "slide_type": "subslide"
    }
   },
   "outputs": [],
   "source": [
    "###=== 2-D plot for the A1 projected wave function  ===###\n",
    "\n",
    "if (show_graph or True):\n",
    "    r_flt     = rcrd   .flatten()\n",
    "    psi_0_A1_r   = psi_0_A1  .flatten().real\n",
    "    psi_40_A1_r  = psi_40_A1 .flatten().real\n",
    "    psi_4m4_A1_r = psi_4m4_A1.flatten().real\n",
    "    psi_4p4_A1_r = psi_4p4_A1.flatten().real\n",
    "    fig, axe = plt.subplots(ncols=2, nrows=2, figsize=(10,8), sharex=True)\n",
    "    axe[0,0].plot(r_flt,psi_0_A1_r  ,'b.', label='V_0')\n",
    "    axe[0,1].plot(r_flt,psi_40_A1_r ,'b.', label='V_40')\n",
    "    axe[1,0].plot(r_flt,psi_4m4_A1_r,'b.', label='V_4,+4')\n",
    "    axe[1,1].plot(r_flt,psi_4p4_A1_r,'b.', label='V_4,-4')\n",
    "    axe[0,0].set_xlim(-1,40)\n",
    "    for i in range(2):\n",
    "        for j in range(2):\n",
    "            axe[i,j].grid(True)\n",
    "            #axe[i,j].set_ylim(-0.005,0.05)\n",
    "            axe[i,j].legend(numpoints=1, loc='lower right')\n",
    "            axe[i,j].set_ylabel('V(r) [Lattice Unit]')\n",
    "            axe[i,j].set_xlabel('r [Lattice Unit]')"
   ]
  },
  {
   "cell_type": "code",
   "execution_count": null,
   "metadata": {
    "slideshow": {
     "slide_type": "slide"
    }
   },
   "outputs": [],
   "source": []
  }
 ],
 "metadata": {
  "hide_input": false,
  "kernelspec": {
   "display_name": "Python 3",
   "language": "python",
   "name": "python3"
  },
  "language_info": {
   "codemirror_mode": {
    "name": "ipython",
    "version": 3
   },
   "file_extension": ".py",
   "mimetype": "text/x-python",
   "name": "python",
   "nbconvert_exporter": "python",
   "pygments_lexer": "ipython3",
   "version": "3.6.3"
  },
  "toc": {
   "base_numbering": 1,
   "nav_menu": {},
   "number_sections": true,
   "sideBar": true,
   "skip_h1_title": false,
   "title_cell": "Table of Contents",
   "title_sidebar": "Contents",
   "toc_cell": false,
   "toc_position": {},
   "toc_section_display": true,
   "toc_window_display": false
  }
 },
 "nbformat": 4,
 "nbformat_minor": 2
}
